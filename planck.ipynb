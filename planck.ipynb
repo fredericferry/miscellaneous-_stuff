{
 "cells": [
  {
   "cell_type": "markdown",
   "metadata": {},
   "source": [
    "# Fonction de Planck\n",
    "\n",
    "\"\"\"\n",
    "Description: A program that plots the blackbody emission spectra (Planck-function) for different temperatures\n",
    "\"\"\""
   ]
  },
  {
   "cell_type": "code",
   "execution_count": null,
   "metadata": {},
   "outputs": [],
   "source": [
    "import numpy as np\n",
    "import matplotlib.pyplot as plt\n",
    "import warnings\n",
    "warnings.filterwarnings(\"ignore\")"
   ]
  },
  {
   "cell_type": "code",
   "execution_count": null,
   "metadata": {},
   "outputs": [],
   "source": [
    "h = 6.626e-34 # constante de Planck = 6,62. 10-34 J s\n",
    "c = 3.0e+8 # vitesse de la lumière dans le vide = 2,9979.108 m s-1\n",
    "k = 1.38e-23 # constante de Boltzmann = 1,38. 10-23 J K-1"
   ]
  },
  {
   "cell_type": "code",
   "execution_count": null,
   "metadata": {},
   "outputs": [],
   "source": [
    "def planck(wave, temp):\n",
    "    \"\"\"\n",
    "    Input: Wavelength values and temperature\n",
    "    Returns: B_nu(wave,temp), the Planck distribution function in SI units\n",
    "    \"\"\"\n",
    "    numer = 2.*h*(c)**2/wave**5\n",
    "    denom = np.exp(h*c/(k*temp*wave))-1.\n",
    "    return numer/denom"
   ]
  },
  {
   "cell_type": "code",
   "execution_count": null,
   "metadata": {},
   "outputs": [],
   "source": [
    "wave = np.linspace(10., 3500., 400) #  array of wavelengths (nm)\n",
    "Tsun=6000 #  Temperature of the Sun\n",
    "UVbound = 390\n",
    "IRbound = 700"
   ]
  },
  {
   "cell_type": "code",
   "execution_count": null,
   "metadata": {
    "scrolled": false
   },
   "outputs": [],
   "source": [
    "label_size=16\n",
    "fig = plt.figure(figsize=(15, 10))\n",
    "ax = fig.add_subplot(111)\n",
    "ax.set_xlabel(r'$\\lambda \\, [nm]$',size=\"x-large\")\n",
    "ax.set_ylabel(r'$B_{\\lambda} \\, [\\mathrm{W \\, m^{-2} \\, nm^{-1} \\, ster^{-1}}]$',size=\"x-large\")\n",
    "title = 'Blackbody emission curve for the Sun (T = {:.0f} K)'.format(Tsun)\n",
    "ax.set_title(title, fontsize=label_size)\n",
    "ax.grid()\n",
    "ax.axvspan(UVbound, IRbound, alpha=0.1, color='red')\n",
    "f=planck(wave*1e-9,Tsun)/10**9 #dividing by 10**9 to get nm^-1 in units\n",
    "ax.plot(wave,f/(Tsun**4),label=str(Tsun)+' K')\n",
    "\n",
    "plt.legend(loc='upper right')\n",
    "plt.show()\n",
    "fig.savefig(\"planck.png\")"
   ]
  },
  {
   "cell_type": "code",
   "execution_count": null,
   "metadata": {
    "scrolled": false
   },
   "outputs": [],
   "source": [
    "fig = plt.figure(figsize=(15, 10))\n",
    "ax = fig.add_subplot(111)\n",
    "ax.set_title(\"Blackbody emission spectra $B_{\\lambda}$ for different temperatures\")\n",
    "ax.set_xlabel(r'$\\lambda \\, [nm]$',size=\"x-large\")\n",
    "ax.set_ylabel(r'$B_{\\lambda} \\, [\\mathrm{W \\, m^{-2} \\, nm^{-1} \\, ster^{-1}}]$',size=\"x-large\")\n",
    "\n",
    "ax.grid()\n",
    "ax.axvspan(UVbound, IRbound, alpha=0.1, color='red')\n",
    "\n",
    "for T in [2000,3000,4000,5000,6000]:\n",
    "    f=planck(wave*1e-9,T)/10**9 #dividing by 10**9 to get nm^-1 in units\n",
    "    ax.plot(wave,f,label=str(T) + ' K')\n",
    "\n",
    "plt.legend(loc='upper right')\n",
    "plt.show()\n",
    "fig.savefig(\"planck2.png\")"
   ]
  },
  {
   "cell_type": "code",
   "execution_count": null,
   "metadata": {
    "scrolled": false
   },
   "outputs": [],
   "source": [
    "fig = plt.figure(figsize=(15, 10))\n",
    "ax = fig.add_subplot(111)\n",
    "ax.set_title(\"Normalized blackbody emission spectra $T^{-4} B_{\\lambda}$ for different temperatures\")\n",
    "ax.set_xlabel(r'$\\lambda \\, [\\mu m]$',size=\"x-large\")\n",
    "ax.set_ylabel(r'Normalized spectral radiance $[\\mathrm{W \\, m^{-2} \\, \\mu m^{-1} \\, ster^{-1}} \\, K^{-4}]$'\n",
    "              ,size=\"x-large\")\n",
    "ax.grid()\n",
    "ax.axvspan(UVbound, IRbound, alpha=0.1, color='red')\n",
    "\n",
    "\n",
    "for T in [2000,3000,4000,5000,6000]:\n",
    "    f=planck(wave*1e-9,T)/10**9 #dividing by 10**9 to get nm^-1 in units\n",
    "    ax.plot(wave,f/(T**4),label=str(T) + ' K')\n",
    "\n",
    "plt.legend(loc='upper right')\n",
    "plt.show()\n",
    "fig.savefig(\"planck3.png\")"
   ]
  },
  {
   "cell_type": "code",
   "execution_count": null,
   "metadata": {},
   "outputs": [],
   "source": [
    "wave = np.linspace(0,50,500) #  array of wavelengths (um)"
   ]
  },
  {
   "cell_type": "code",
   "execution_count": null,
   "metadata": {
    "scrolled": false
   },
   "outputs": [],
   "source": [
    "fig = plt.figure(figsize=(15, 10))\n",
    "ax = fig.add_subplot(111)\n",
    "ax.set_title(\"Normalized blackbody emission spectra $T^{-4} B_{\\lambda}$ for different temperatures\")\n",
    "ax.set_xlabel(r'$\\lambda \\, [\\mu m]$',size=\"x-large\")\n",
    "ax.set_ylabel(r'Normalized spectral radiance $[\\mathrm{W \\, m^{-2} \\, \\mu m^{-1} \\, ster^{-1}} \\, K^{-4}]$'\n",
    "              ,size=\"x-large\")\n",
    "ax.grid()\n",
    "for T in [300,330,360,390]:\n",
    "    f=planck(wave*1e-6,T)/10**6 #dividing by 10**9 to get nm^-1 in units\n",
    "    ax.plot(wave,f/(T**4),label=str(T) + ' K')\n",
    "\n",
    "plt.legend(loc='upper right')\n",
    "plt.show()\n",
    "fig.savefig(\"planck4.png\")"
   ]
  },
  {
   "cell_type": "code",
   "execution_count": null,
   "metadata": {},
   "outputs": [],
   "source": [
    "wave = np.linspace(0.1, 200, 100000) #  array of wavelengths (um)"
   ]
  },
  {
   "cell_type": "code",
   "execution_count": null,
   "metadata": {
    "scrolled": false
   },
   "outputs": [],
   "source": [
    "fig = plt.figure(figsize=(15, 10))\n",
    "ax = fig.add_subplot(111)\n",
    "ax.set_title(\"Spectral radiance divided by the maximum radiance value for different temperatures\")\n",
    "ax.set_xlabel(r'$\\lambda \\, [\\mu m]$',size=\"x-large\")\n",
    "ax.set_ylabel(\"$B_{\\lambda}$ / max($B_{\\lambda}$)\",size=\"x-large\")\n",
    "ax.grid()\n",
    "\n",
    "for T in [290,6000]:\n",
    "    f=planck(wave*1e-6,T)/10**6 #dividing by 10**6 to get m^-1 in units\n",
    "    ax.semilogx(wave,f/(max(f)),label=str(T) + ' K')\n",
    "\n",
    "plt.legend(loc='upper right')\n",
    "plt.show()\n",
    "fig.savefig(\"planck5.png\")"
   ]
  }
 ],
 "metadata": {
  "kernelspec": {
   "display_name": "Python 3",
   "language": "python",
   "name": "python3"
  },
  "language_info": {
   "codemirror_mode": {
    "name": "ipython",
    "version": 3
   },
   "file_extension": ".py",
   "mimetype": "text/x-python",
   "name": "python",
   "nbconvert_exporter": "python",
   "pygments_lexer": "ipython3",
   "version": "3.7.11"
  }
 },
 "nbformat": 4,
 "nbformat_minor": 1
}
